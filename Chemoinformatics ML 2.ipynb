{
 "cells": [
  {
   "cell_type": "code",
   "execution_count": 21,
   "id": "1afbeffa",
   "metadata": {},
   "outputs": [],
   "source": [
    "import pandas as pd\n",
    "import numpy as np\n",
    "import seaborn as sns"
   ]
  },
  {
   "cell_type": "code",
   "execution_count": 12,
   "id": "0d56dc2e",
   "metadata": {},
   "outputs": [],
   "source": [
    "data = pd.read_csv(\"./output/sars_cov2_mpro_ic50_clean.csv\").drop([\"Unnamed: 0\", \"index\"], axis=1)"
   ]
  },
  {
   "cell_type": "code",
   "execution_count": 13,
   "id": "9e4f41a5",
   "metadata": {},
   "outputs": [
    {
     "data": {
      "text/html": [
       "<div>\n",
       "<style scoped>\n",
       "    .dataframe tbody tr th:only-of-type {\n",
       "        vertical-align: middle;\n",
       "    }\n",
       "\n",
       "    .dataframe tbody tr th {\n",
       "        vertical-align: top;\n",
       "    }\n",
       "\n",
       "    .dataframe thead th {\n",
       "        text-align: right;\n",
       "    }\n",
       "</style>\n",
       "<table border=\"1\" class=\"dataframe\">\n",
       "  <thead>\n",
       "    <tr style=\"text-align: right;\">\n",
       "      <th></th>\n",
       "      <th>molecule_pref_name</th>\n",
       "      <th>canonical_smiles</th>\n",
       "      <th>molecule_chembl_id</th>\n",
       "      <th>standard_value</th>\n",
       "      <th>standard_units</th>\n",
       "      <th>molecule_id</th>\n",
       "    </tr>\n",
       "  </thead>\n",
       "  <tbody>\n",
       "    <tr>\n",
       "      <th>0</th>\n",
       "      <td>PHENACYL CHLORIDE</td>\n",
       "      <td>O=C(CCl)c1ccccc1</td>\n",
       "      <td>CHEMBL105712</td>\n",
       "      <td>190.0</td>\n",
       "      <td>nM</td>\n",
       "      <td>105712</td>\n",
       "    </tr>\n",
       "    <tr>\n",
       "      <th>1</th>\n",
       "      <td>BENSERAZIDE</td>\n",
       "      <td>NC(CO)C(=O)NNCc1ccc(O)c(O)c1O</td>\n",
       "      <td>CHEMBL1096979</td>\n",
       "      <td>140.0</td>\n",
       "      <td>nM</td>\n",
       "      <td>1096979</td>\n",
       "    </tr>\n",
       "    <tr>\n",
       "      <th>2</th>\n",
       "      <td>2-MERCAPTOBENZOTHIAZOLE</td>\n",
       "      <td>Sc1nc2ccccc2s1</td>\n",
       "      <td>CHEMBL111654</td>\n",
       "      <td>1740.0</td>\n",
       "      <td>nM</td>\n",
       "      <td>111654</td>\n",
       "    </tr>\n",
       "  </tbody>\n",
       "</table>\n",
       "</div>"
      ],
      "text/plain": [
       "        molecule_pref_name               canonical_smiles molecule_chembl_id  \\\n",
       "0        PHENACYL CHLORIDE               O=C(CCl)c1ccccc1       CHEMBL105712   \n",
       "1              BENSERAZIDE  NC(CO)C(=O)NNCc1ccc(O)c(O)c1O      CHEMBL1096979   \n",
       "2  2-MERCAPTOBENZOTHIAZOLE                 Sc1nc2ccccc2s1       CHEMBL111654   \n",
       "\n",
       "   standard_value standard_units  molecule_id  \n",
       "0           190.0             nM       105712  \n",
       "1           140.0             nM      1096979  \n",
       "2          1740.0             nM       111654  "
      ]
     },
     "execution_count": 13,
     "metadata": {},
     "output_type": "execute_result"
    }
   ],
   "source": [
    "data.head(3)"
   ]
  },
  {
   "cell_type": "markdown",
   "id": "18996391",
   "metadata": {},
   "source": [
    "## Categorize Active vs Inactive\n",
    "IC50 < 1000 nM = Active else Inactive"
   ]
  },
  {
   "cell_type": "code",
   "execution_count": 23,
   "id": "cd89f86e",
   "metadata": {},
   "outputs": [
    {
     "data": {
      "text/html": [
       "<div>\n",
       "<style scoped>\n",
       "    .dataframe tbody tr th:only-of-type {\n",
       "        vertical-align: middle;\n",
       "    }\n",
       "\n",
       "    .dataframe tbody tr th {\n",
       "        vertical-align: top;\n",
       "    }\n",
       "\n",
       "    .dataframe thead th {\n",
       "        text-align: right;\n",
       "    }\n",
       "</style>\n",
       "<table border=\"1\" class=\"dataframe\">\n",
       "  <thead>\n",
       "    <tr style=\"text-align: right;\">\n",
       "      <th></th>\n",
       "      <th>molecule_pref_name</th>\n",
       "      <th>canonical_smiles</th>\n",
       "      <th>molecule_chembl_id</th>\n",
       "      <th>standard_value</th>\n",
       "      <th>standard_units</th>\n",
       "      <th>molecule_id</th>\n",
       "      <th>class</th>\n",
       "    </tr>\n",
       "  </thead>\n",
       "  <tbody>\n",
       "    <tr>\n",
       "      <th>0</th>\n",
       "      <td>PHENACYL CHLORIDE</td>\n",
       "      <td>O=C(CCl)c1ccccc1</td>\n",
       "      <td>CHEMBL105712</td>\n",
       "      <td>190.0</td>\n",
       "      <td>nM</td>\n",
       "      <td>105712</td>\n",
       "      <td>active</td>\n",
       "    </tr>\n",
       "    <tr>\n",
       "      <th>1</th>\n",
       "      <td>BENSERAZIDE</td>\n",
       "      <td>NC(CO)C(=O)NNCc1ccc(O)c(O)c1O</td>\n",
       "      <td>CHEMBL1096979</td>\n",
       "      <td>140.0</td>\n",
       "      <td>nM</td>\n",
       "      <td>1096979</td>\n",
       "      <td>active</td>\n",
       "    </tr>\n",
       "    <tr>\n",
       "      <th>2</th>\n",
       "      <td>2-MERCAPTOBENZOTHIAZOLE</td>\n",
       "      <td>Sc1nc2ccccc2s1</td>\n",
       "      <td>CHEMBL111654</td>\n",
       "      <td>1740.0</td>\n",
       "      <td>nM</td>\n",
       "      <td>111654</td>\n",
       "      <td>inactive</td>\n",
       "    </tr>\n",
       "    <tr>\n",
       "      <th>3</th>\n",
       "      <td>NaN</td>\n",
       "      <td>O=C(O)c1ccc(SSc2ccc(C(=O)O)cn2)nc1</td>\n",
       "      <td>CHEMBL1161936</td>\n",
       "      <td>240.0</td>\n",
       "      <td>nM</td>\n",
       "      <td>1161936</td>\n",
       "      <td>active</td>\n",
       "    </tr>\n",
       "    <tr>\n",
       "      <th>4</th>\n",
       "      <td>NaN</td>\n",
       "      <td>C/N=c1/nc(-c2ccccc2)n(-c2ccccc2)s1</td>\n",
       "      <td>CHEMBL1188627</td>\n",
       "      <td>980.0</td>\n",
       "      <td>nM</td>\n",
       "      <td>1188627</td>\n",
       "      <td>active</td>\n",
       "    </tr>\n",
       "  </tbody>\n",
       "</table>\n",
       "</div>"
      ],
      "text/plain": [
       "        molecule_pref_name                    canonical_smiles  \\\n",
       "0        PHENACYL CHLORIDE                    O=C(CCl)c1ccccc1   \n",
       "1              BENSERAZIDE       NC(CO)C(=O)NNCc1ccc(O)c(O)c1O   \n",
       "2  2-MERCAPTOBENZOTHIAZOLE                      Sc1nc2ccccc2s1   \n",
       "3                      NaN  O=C(O)c1ccc(SSc2ccc(C(=O)O)cn2)nc1   \n",
       "4                      NaN  C/N=c1/nc(-c2ccccc2)n(-c2ccccc2)s1   \n",
       "\n",
       "  molecule_chembl_id  standard_value standard_units  molecule_id     class  \n",
       "0       CHEMBL105712           190.0             nM       105712    active  \n",
       "1      CHEMBL1096979           140.0             nM      1096979    active  \n",
       "2       CHEMBL111654          1740.0             nM       111654  inactive  \n",
       "3      CHEMBL1161936           240.0             nM      1161936    active  \n",
       "4      CHEMBL1188627           980.0             nM      1188627    active  "
      ]
     },
     "execution_count": 23,
     "metadata": {},
     "output_type": "execute_result"
    }
   ],
   "source": [
    "data['class'] = data[\"standard_value\"].apply(lambda x: (\"active\" if x <= 1000  else \"inactive\")).astype(\"category\")\n",
    "data.head()"
   ]
  },
  {
   "cell_type": "code",
   "execution_count": 24,
   "id": "6837c0e9",
   "metadata": {},
   "outputs": [
    {
     "data": {
      "image/png": "[encoded data removed]",
      "text/plain": [
       "<Figure size 432x288 with 1 Axes>"
      ]
     },
     "metadata": {
      "needs_background": "light"
     },
     "output_type": "display_data"
    }
   ],
   "source": [
    "# Visualize\n",
    "ax = sns.countplot(x=\"class\", data=data)"
   ]
  },
  {
   "cell_type": "markdown",
   "id": "2990d264",
   "metadata": {},
   "source": [
    "## Normalize IC50 data => nIC50\n",
    "**Standard Cited procedure**: Apply -log(Molar Concentration)"
   ]
  },
  {
   "cell_type": "code",
   "execution_count": 26,
   "id": "4e829a2a",
   "metadata": {},
   "outputs": [
    {
     "data": {
      "text/html": [
       "<div>\n",
       "<style scoped>\n",
       "    .dataframe tbody tr th:only-of-type {\n",
       "        vertical-align: middle;\n",
       "    }\n",
       "\n",
       "    .dataframe tbody tr th {\n",
       "        vertical-align: top;\n",
       "    }\n",
       "\n",
       "    .dataframe thead th {\n",
       "        text-align: right;\n",
       "    }\n",
       "</style>\n",
       "<table border=\"1\" class=\"dataframe\">\n",
       "  <thead>\n",
       "    <tr style=\"text-align: right;\">\n",
       "      <th></th>\n",
       "      <th>molecule_pref_name</th>\n",
       "      <th>canonical_smiles</th>\n",
       "      <th>molecule_chembl_id</th>\n",
       "      <th>standard_value</th>\n",
       "      <th>standard_units</th>\n",
       "      <th>molecule_id</th>\n",
       "      <th>class</th>\n",
       "      <th>nIC50</th>\n",
       "    </tr>\n",
       "  </thead>\n",
       "  <tbody>\n",
       "    <tr>\n",
       "      <th>0</th>\n",
       "      <td>PHENACYL CHLORIDE</td>\n",
       "      <td>O=C(CCl)c1ccccc1</td>\n",
       "      <td>CHEMBL105712</td>\n",
       "      <td>190.0</td>\n",
       "      <td>nM</td>\n",
       "      <td>105712</td>\n",
       "      <td>active</td>\n",
       "      <td>6.721246</td>\n",
       "    </tr>\n",
       "    <tr>\n",
       "      <th>1</th>\n",
       "      <td>BENSERAZIDE</td>\n",
       "      <td>NC(CO)C(=O)NNCc1ccc(O)c(O)c1O</td>\n",
       "      <td>CHEMBL1096979</td>\n",
       "      <td>140.0</td>\n",
       "      <td>nM</td>\n",
       "      <td>1096979</td>\n",
       "      <td>active</td>\n",
       "      <td>6.853872</td>\n",
       "    </tr>\n",
       "    <tr>\n",
       "      <th>2</th>\n",
       "      <td>2-MERCAPTOBENZOTHIAZOLE</td>\n",
       "      <td>Sc1nc2ccccc2s1</td>\n",
       "      <td>CHEMBL111654</td>\n",
       "      <td>1740.0</td>\n",
       "      <td>nM</td>\n",
       "      <td>111654</td>\n",
       "      <td>inactive</td>\n",
       "      <td>5.759451</td>\n",
       "    </tr>\n",
       "    <tr>\n",
       "      <th>3</th>\n",
       "      <td>NaN</td>\n",
       "      <td>O=C(O)c1ccc(SSc2ccc(C(=O)O)cn2)nc1</td>\n",
       "      <td>CHEMBL1161936</td>\n",
       "      <td>240.0</td>\n",
       "      <td>nM</td>\n",
       "      <td>1161936</td>\n",
       "      <td>active</td>\n",
       "      <td>6.619789</td>\n",
       "    </tr>\n",
       "    <tr>\n",
       "      <th>4</th>\n",
       "      <td>NaN</td>\n",
       "      <td>C/N=c1/nc(-c2ccccc2)n(-c2ccccc2)s1</td>\n",
       "      <td>CHEMBL1188627</td>\n",
       "      <td>980.0</td>\n",
       "      <td>nM</td>\n",
       "      <td>1188627</td>\n",
       "      <td>active</td>\n",
       "      <td>6.008774</td>\n",
       "    </tr>\n",
       "  </tbody>\n",
       "</table>\n",
       "</div>"
      ],
      "text/plain": [
       "        molecule_pref_name                    canonical_smiles  \\\n",
       "0        PHENACYL CHLORIDE                    O=C(CCl)c1ccccc1   \n",
       "1              BENSERAZIDE       NC(CO)C(=O)NNCc1ccc(O)c(O)c1O   \n",
       "2  2-MERCAPTOBENZOTHIAZOLE                      Sc1nc2ccccc2s1   \n",
       "3                      NaN  O=C(O)c1ccc(SSc2ccc(C(=O)O)cn2)nc1   \n",
       "4                      NaN  C/N=c1/nc(-c2ccccc2)n(-c2ccccc2)s1   \n",
       "\n",
       "  molecule_chembl_id  standard_value standard_units  molecule_id     class  \\\n",
       "0       CHEMBL105712           190.0             nM       105712    active   \n",
       "1      CHEMBL1096979           140.0             nM      1096979    active   \n",
       "2       CHEMBL111654          1740.0             nM       111654  inactive   \n",
       "3      CHEMBL1161936           240.0             nM      1161936    active   \n",
       "4      CHEMBL1188627           980.0             nM      1188627    active   \n",
       "\n",
       "      nIC50  \n",
       "0  6.721246  \n",
       "1  6.853872  \n",
       "2  5.759451  \n",
       "3  6.619789  \n",
       "4  6.008774  "
      ]
     },
     "execution_count": 26,
     "metadata": {},
     "output_type": "execute_result"
    }
   ],
   "source": [
    "def norm_ic50(ic50):\n",
    "    ic50_moles = ic50 * (10**-9) # Convert Molar to Nano Molar\n",
    "    return -1* np.log10(ic50_moles)\n",
    "\n",
    "data['nIC50'] =  data['standard_value'].apply(norm_ic50)\n",
    "data.head()"
   ]
  },
  {
   "cell_type": "code",
   "execution_count": 27,
   "id": "2e9a6428",
   "metadata": {},
   "outputs": [
    {
     "data": {
      "text/plain": [
       "count    99.000000\n",
       "mean      6.167278\n",
       "std       0.639799\n",
       "min       5.302771\n",
       "25%       5.628010\n",
       "50%       6.075721\n",
       "75%       6.657577\n",
       "max       8.000000\n",
       "Name: nIC50, dtype: float64"
      ]
     },
     "execution_count": 27,
     "metadata": {},
     "output_type": "execute_result"
    }
   ],
   "source": [
    "data['nIC50'].describe()"
   ]
  },
  {
   "cell_type": "markdown",
   "id": "b9749ae7",
   "metadata": {},
   "source": [
    "# Calculate Lipinski and Related Descriptors"
   ]
  },
  {
   "cell_type": "code",
   "execution_count": 32,
   "id": "b456e9c5",
   "metadata": {},
   "outputs": [],
   "source": [
    "from rdkit import Chem\n",
    "from rdkit.Chem import AllChem, rdMolDescriptors, Descriptors, QED\n",
    "from rdkit.Chem.Draw import IPythonConsole"
   ]
  },
  {
   "cell_type": "code",
   "execution_count": 36,
   "id": "775622f4",
   "metadata": {},
   "outputs": [],
   "source": [
    "def compute_descriptors(row):\n",
    "    try:\n",
    "        mol = Chem.MolFromSmiles(row[\"canonical_smiles\"])\n",
    "    \n",
    "        row[\"logP\"] = Descriptors.MolLogP(mol)\n",
    "        row['molecular_wt'] = Descriptors.MolWt(mol)\n",
    "        row['havy_atom_count'] = Descriptors.HeavyAtomCount(mol)\n",
    "        row[\"hydrogen_acceptors\"] = Descriptors.NumHAcceptors(mol)\n",
    "        row[\"hydrogen_donors\"] = Descriptors.NumHDonors(mol)\n",
    "        row[\"rotatable_bonds\"] = Descriptors.NumRotatableBonds(mol)\n",
    "        row[\"amide_bonds\"] = rdMolDescriptors.CalcNumAmideBonds(mol)\n",
    "        row[\"ring_count\"] = Descriptors.RingCount(mol)\n",
    "        row[\"tpsa\"]  = Descriptors.TPSA(mol)\n",
    "        row[\"hba\"]   = rdMolDescriptors.CalcNumHBA(mol)\n",
    "        row[\"hbd\"]  = rdMolDescriptors.CalcNumHBD(mol)\n",
    "        row[\"qed\"]   = QED.qed(mol)\n",
    "    except:\n",
    "        print(\"Error Creating Molecules\")\n",
    "    \n",
    "    return row\n",
    "    "
   ]
  },
  {
   "cell_type": "code",
   "execution_count": 31,
   "id": "773a956d",
   "metadata": {},
   "outputs": [
    {
     "data": {
      "image/png": "[encoded data removed]",
      "text/plain": [
       "<rdkit.Chem.rdchem.Mol at 0x7f5183cc4700>"
      ]
     },
     "metadata": {},
     "output_type": "display_data"
    }
   ],
   "source": [
    "# Demo\n",
    "sample_data = data.iloc[1]\n",
    "mol = Chem.MolFromSmiles(sample_data.canonical_smiles)\n",
    "display(mol)"
   ]
  },
  {
   "cell_type": "code",
   "execution_count": 39,
   "id": "152a406b",
   "metadata": {},
   "outputs": [
    {
     "name": "stderr",
     "output_type": "stream",
     "text": [
      "<ipython-input-36-e9b20c8271dc>:5: SettingWithCopyWarning: \n",
      "A value is trying to be set on a copy of a slice from a DataFrame\n",
      "\n",
      "See the caveats in the documentation: https://pandas.pydata.org/pandas-docs/stable/user_guide/indexing.html#returning-a-view-versus-a-copy\n",
      "  row[\"logP\"] = Descriptors.MolLogP(mol)\n",
      "<ipython-input-36-e9b20c8271dc>:6: SettingWithCopyWarning: \n",
      "A value is trying to be set on a copy of a slice from a DataFrame\n",
      "\n",
      "See the caveats in the documentation: https://pandas.pydata.org/pandas-docs/stable/user_guide/indexing.html#returning-a-view-versus-a-copy\n",
      "  row['molecular_wt'] = Descriptors.MolWt(mol)\n",
      "<ipython-input-36-e9b20c8271dc>:7: SettingWithCopyWarning: \n",
      "A value is trying to be set on a copy of a slice from a DataFrame\n",
      "\n",
      "See the caveats in the documentation: https://pandas.pydata.org/pandas-docs/stable/user_guide/indexing.html#returning-a-view-versus-a-copy\n",
      "  row['havy_atom_count'] = Descriptors.HeavyAtomCount(mol)\n",
      "<ipython-input-36-e9b20c8271dc>:8: SettingWithCopyWarning: \n",
      "A value is trying to be set on a copy of a slice from a DataFrame\n",
      "\n",
      "See the caveats in the documentation: https://pandas.pydata.org/pandas-docs/stable/user_guide/indexing.html#returning-a-view-versus-a-copy\n",
      "  row[\"hydrogen_acceptors\"] = Descriptors.NumHAcceptors(mol)\n",
      "<ipython-input-36-e9b20c8271dc>:9: SettingWithCopyWarning: \n",
      "A value is trying to be set on a copy of a slice from a DataFrame\n",
      "\n",
      "See the caveats in the documentation: https://pandas.pydata.org/pandas-docs/stable/user_guide/indexing.html#returning-a-view-versus-a-copy\n",
      "  row[\"hydrogen_donors\"] = Descriptors.NumHDonors(mol)\n",
      "<ipython-input-36-e9b20c8271dc>:10: SettingWithCopyWarning: \n",
      "A value is trying to be set on a copy of a slice from a DataFrame\n",
      "\n",
      "See the caveats in the documentation: https://pandas.pydata.org/pandas-docs/stable/user_guide/indexing.html#returning-a-view-versus-a-copy\n",
      "  row[\"rotatable_bonds\"] = Descriptors.NumRotatableBonds(mol)\n",
      "<ipython-input-36-e9b20c8271dc>:11: SettingWithCopyWarning: \n",
      "A value is trying to be set on a copy of a slice from a DataFrame\n",
      "\n",
      "See the caveats in the documentation: https://pandas.pydata.org/pandas-docs/stable/user_guide/indexing.html#returning-a-view-versus-a-copy\n",
      "  row[\"amide_bonds\"] = rdMolDescriptors.CalcNumAmideBonds(mol)\n",
      "<ipython-input-36-e9b20c8271dc>:12: SettingWithCopyWarning: \n",
      "A value is trying to be set on a copy of a slice from a DataFrame\n",
      "\n",
      "See the caveats in the documentation: https://pandas.pydata.org/pandas-docs/stable/user_guide/indexing.html#returning-a-view-versus-a-copy\n",
      "  row[\"ring_count\"] = Descriptors.RingCount(mol)\n",
      "<ipython-input-36-e9b20c8271dc>:13: SettingWithCopyWarning: \n",
      "A value is trying to be set on a copy of a slice from a DataFrame\n",
      "\n",
      "See the caveats in the documentation: https://pandas.pydata.org/pandas-docs/stable/user_guide/indexing.html#returning-a-view-versus-a-copy\n",
      "  row[\"tpsa\"]  = Descriptors.TPSA(mol)\n",
      "<ipython-input-36-e9b20c8271dc>:14: SettingWithCopyWarning: \n",
      "A value is trying to be set on a copy of a slice from a DataFrame\n",
      "\n",
      "See the caveats in the documentation: https://pandas.pydata.org/pandas-docs/stable/user_guide/indexing.html#returning-a-view-versus-a-copy\n",
      "  row[\"hba\"]   = rdMolDescriptors.CalcNumHBA(mol)\n",
      "<ipython-input-36-e9b20c8271dc>:15: SettingWithCopyWarning: \n",
      "A value is trying to be set on a copy of a slice from a DataFrame\n",
      "\n",
      "See the caveats in the documentation: https://pandas.pydata.org/pandas-docs/stable/user_guide/indexing.html#returning-a-view-versus-a-copy\n",
      "  row[\"hbd\"]  = rdMolDescriptors.CalcNumHBD(mol)\n",
      "<ipython-input-36-e9b20c8271dc>:16: SettingWithCopyWarning: \n",
      "A value is trying to be set on a copy of a slice from a DataFrame\n",
      "\n",
      "See the caveats in the documentation: https://pandas.pydata.org/pandas-docs/stable/user_guide/indexing.html#returning-a-view-versus-a-copy\n",
      "  row[\"qed\"]   = QED.qed(mol)\n"
     ]
    },
    {
     "data": {
      "text/plain": [
       "molecule_pref_name                      BENSERAZIDE\n",
       "canonical_smiles      NC(CO)C(=O)NNCc1ccc(O)c(O)c1O\n",
       "molecule_chembl_id                    CHEMBL1096979\n",
       "standard_value                                140.0\n",
       "standard_units                                   nM\n",
       "molecule_id                                 1096979\n",
       "class                                        active\n",
       "nIC50                                      6.853872\n",
       "logP                                        -1.7562\n",
       "molecular_wt                                257.246\n",
       "havy_atom_count                                  18\n",
       "hydrogen_acceptors                                7\n",
       "hydrogen_donors                                   7\n",
       "rotatable_bonds                                   5\n",
       "amide_bonds                                       1\n",
       "ring_count                                        1\n",
       "tpsa                                         148.07\n",
       "hba                                               7\n",
       "hbd                                               7\n",
       "qed                                        0.244008\n",
       "Name: 1, dtype: object"
      ]
     },
     "execution_count": 39,
     "metadata": {},
     "output_type": "execute_result"
    }
   ],
   "source": [
    "compute_descriptors(sample_data)"
   ]
  },
  {
   "cell_type": "markdown",
   "id": "5f53718e",
   "metadata": {},
   "source": [
    "## Update dataframe"
   ]
  },
  {
   "cell_type": "code",
   "execution_count": 41,
   "id": "1ce85c44",
   "metadata": {},
   "outputs": [
    {
     "data": {
      "text/html": [
       "<div>\n",
       "<style scoped>\n",
       "    .dataframe tbody tr th:only-of-type {\n",
       "        vertical-align: middle;\n",
       "    }\n",
       "\n",
       "    .dataframe tbody tr th {\n",
       "        vertical-align: top;\n",
       "    }\n",
       "\n",
       "    .dataframe thead th {\n",
       "        text-align: right;\n",
       "    }\n",
       "</style>\n",
       "<table border=\"1\" class=\"dataframe\">\n",
       "  <thead>\n",
       "    <tr style=\"text-align: right;\">\n",
       "      <th></th>\n",
       "      <th>molecule_pref_name</th>\n",
       "      <th>canonical_smiles</th>\n",
       "      <th>molecule_chembl_id</th>\n",
       "      <th>standard_value</th>\n",
       "      <th>standard_units</th>\n",
       "      <th>molecule_id</th>\n",
       "      <th>class</th>\n",
       "      <th>nIC50</th>\n",
       "      <th>logP</th>\n",
       "      <th>molecular_wt</th>\n",
       "      <th>havy_atom_count</th>\n",
       "      <th>hydrogen_acceptors</th>\n",
       "      <th>hydrogen_donors</th>\n",
       "      <th>rotatable_bonds</th>\n",
       "      <th>amide_bonds</th>\n",
       "      <th>ring_count</th>\n",
       "      <th>tpsa</th>\n",
       "      <th>hba</th>\n",
       "      <th>hbd</th>\n",
       "      <th>qed</th>\n",
       "    </tr>\n",
       "  </thead>\n",
       "  <tbody>\n",
       "    <tr>\n",
       "      <th>0</th>\n",
       "      <td>PHENACYL CHLORIDE</td>\n",
       "      <td>O=C(CCl)c1ccccc1</td>\n",
       "      <td>CHEMBL105712</td>\n",
       "      <td>190.0</td>\n",
       "      <td>nM</td>\n",
       "      <td>105712</td>\n",
       "      <td>active</td>\n",
       "      <td>6.721246</td>\n",
       "      <td>2.1081</td>\n",
       "      <td>154.596</td>\n",
       "      <td>10</td>\n",
       "      <td>1</td>\n",
       "      <td>0</td>\n",
       "      <td>2</td>\n",
       "      <td>0</td>\n",
       "      <td>1</td>\n",
       "      <td>17.07</td>\n",
       "      <td>1</td>\n",
       "      <td>0</td>\n",
       "      <td>0.471176</td>\n",
       "    </tr>\n",
       "    <tr>\n",
       "      <th>1</th>\n",
       "      <td>BENSERAZIDE</td>\n",
       "      <td>NC(CO)C(=O)NNCc1ccc(O)c(O)c1O</td>\n",
       "      <td>CHEMBL1096979</td>\n",
       "      <td>140.0</td>\n",
       "      <td>nM</td>\n",
       "      <td>1096979</td>\n",
       "      <td>active</td>\n",
       "      <td>6.853872</td>\n",
       "      <td>-1.7562</td>\n",
       "      <td>257.246</td>\n",
       "      <td>18</td>\n",
       "      <td>7</td>\n",
       "      <td>7</td>\n",
       "      <td>5</td>\n",
       "      <td>1</td>\n",
       "      <td>1</td>\n",
       "      <td>148.07</td>\n",
       "      <td>7</td>\n",
       "      <td>7</td>\n",
       "      <td>0.244008</td>\n",
       "    </tr>\n",
       "    <tr>\n",
       "      <th>2</th>\n",
       "      <td>2-MERCAPTOBENZOTHIAZOLE</td>\n",
       "      <td>Sc1nc2ccccc2s1</td>\n",
       "      <td>CHEMBL111654</td>\n",
       "      <td>1740.0</td>\n",
       "      <td>nM</td>\n",
       "      <td>111654</td>\n",
       "      <td>inactive</td>\n",
       "      <td>5.759451</td>\n",
       "      <td>2.5850</td>\n",
       "      <td>167.258</td>\n",
       "      <td>10</td>\n",
       "      <td>3</td>\n",
       "      <td>1</td>\n",
       "      <td>0</td>\n",
       "      <td>0</td>\n",
       "      <td>2</td>\n",
       "      <td>12.89</td>\n",
       "      <td>3</td>\n",
       "      <td>1</td>\n",
       "      <td>0.594972</td>\n",
       "    </tr>\n",
       "    <tr>\n",
       "      <th>3</th>\n",
       "      <td>NaN</td>\n",
       "      <td>O=C(O)c1ccc(SSc2ccc(C(=O)O)cn2)nc1</td>\n",
       "      <td>CHEMBL1161936</td>\n",
       "      <td>240.0</td>\n",
       "      <td>nM</td>\n",
       "      <td>1161936</td>\n",
       "      <td>active</td>\n",
       "      <td>6.619789</td>\n",
       "      <td>2.6724</td>\n",
       "      <td>308.340</td>\n",
       "      <td>20</td>\n",
       "      <td>6</td>\n",
       "      <td>2</td>\n",
       "      <td>5</td>\n",
       "      <td>0</td>\n",
       "      <td>2</td>\n",
       "      <td>100.38</td>\n",
       "      <td>6</td>\n",
       "      <td>2</td>\n",
       "      <td>0.813057</td>\n",
       "    </tr>\n",
       "    <tr>\n",
       "      <th>4</th>\n",
       "      <td>NaN</td>\n",
       "      <td>C/N=c1/nc(-c2ccccc2)n(-c2ccccc2)s1</td>\n",
       "      <td>CHEMBL1188627</td>\n",
       "      <td>980.0</td>\n",
       "      <td>nM</td>\n",
       "      <td>1188627</td>\n",
       "      <td>active</td>\n",
       "      <td>6.008774</td>\n",
       "      <td>3.1313</td>\n",
       "      <td>267.357</td>\n",
       "      <td>19</td>\n",
       "      <td>4</td>\n",
       "      <td>0</td>\n",
       "      <td>2</td>\n",
       "      <td>0</td>\n",
       "      <td>3</td>\n",
       "      <td>30.18</td>\n",
       "      <td>4</td>\n",
       "      <td>0</td>\n",
       "      <td>0.701310</td>\n",
       "    </tr>\n",
       "  </tbody>\n",
       "</table>\n",
       "</div>"
      ],
      "text/plain": [
       "        molecule_pref_name                    canonical_smiles  \\\n",
       "0        PHENACYL CHLORIDE                    O=C(CCl)c1ccccc1   \n",
       "1              BENSERAZIDE       NC(CO)C(=O)NNCc1ccc(O)c(O)c1O   \n",
       "2  2-MERCAPTOBENZOTHIAZOLE                      Sc1nc2ccccc2s1   \n",
       "3                      NaN  O=C(O)c1ccc(SSc2ccc(C(=O)O)cn2)nc1   \n",
       "4                      NaN  C/N=c1/nc(-c2ccccc2)n(-c2ccccc2)s1   \n",
       "\n",
       "  molecule_chembl_id  standard_value standard_units  molecule_id     class  \\\n",
       "0       CHEMBL105712           190.0             nM       105712    active   \n",
       "1      CHEMBL1096979           140.0             nM      1096979    active   \n",
       "2       CHEMBL111654          1740.0             nM       111654  inactive   \n",
       "3      CHEMBL1161936           240.0             nM      1161936    active   \n",
       "4      CHEMBL1188627           980.0             nM      1188627    active   \n",
       "\n",
       "      nIC50    logP  molecular_wt  havy_atom_count  hydrogen_acceptors  \\\n",
       "0  6.721246  2.1081       154.596               10                   1   \n",
       "1  6.853872 -1.7562       257.246               18                   7   \n",
       "2  5.759451  2.5850       167.258               10                   3   \n",
       "3  6.619789  2.6724       308.340               20                   6   \n",
       "4  6.008774  3.1313       267.357               19                   4   \n",
       "\n",
       "   hydrogen_donors  rotatable_bonds  amide_bonds  ring_count    tpsa  hba  \\\n",
       "0                0                2            0           1   17.07    1   \n",
       "1                7                5            1           1  148.07    7   \n",
       "2                1                0            0           2   12.89    3   \n",
       "3                2                5            0           2  100.38    6   \n",
       "4                0                2            0           3   30.18    4   \n",
       "\n",
       "   hbd       qed  \n",
       "0    0  0.471176  \n",
       "1    7  0.244008  \n",
       "2    1  0.594972  \n",
       "3    2  0.813057  \n",
       "4    0  0.701310  "
      ]
     },
     "execution_count": 41,
     "metadata": {},
     "output_type": "execute_result"
    }
   ],
   "source": [
    "df_desc = data.apply(compute_descriptors, axis=1)\n",
    "df_desc.head()"
   ]
  },
  {
   "cell_type": "code",
   "execution_count": 42,
   "id": "3ea355f5",
   "metadata": {},
   "outputs": [
    {
     "data": {
      "text/plain": [
       "Index(['molecule_pref_name', 'canonical_smiles', 'molecule_chembl_id',\n",
       "       'standard_value', 'standard_units', 'molecule_id', 'class', 'nIC50',\n",
       "       'logP', 'molecular_wt', 'havy_atom_count', 'hydrogen_acceptors',\n",
       "       'hydrogen_donors', 'rotatable_bonds', 'amide_bonds', 'ring_count',\n",
       "       'tpsa', 'hba', 'hbd', 'qed'],\n",
       "      dtype='object')"
      ]
     },
     "execution_count": 42,
     "metadata": {},
     "output_type": "execute_result"
    }
   ],
   "source": [
    "df_desc.columns"
   ]
  },
  {
   "cell_type": "code",
   "execution_count": 43,
   "id": "95b4feb9",
   "metadata": {
    "scrolled": true
   },
   "outputs": [
    {
     "data": {
      "text/html": [
       "<div>\n",
       "<style scoped>\n",
       "    .dataframe tbody tr th:only-of-type {\n",
       "        vertical-align: middle;\n",
       "    }\n",
       "\n",
       "    .dataframe tbody tr th {\n",
       "        vertical-align: top;\n",
       "    }\n",
       "\n",
       "    .dataframe thead th {\n",
       "        text-align: right;\n",
       "    }\n",
       "</style>\n",
       "<table border=\"1\" class=\"dataframe\">\n",
       "  <thead>\n",
       "    <tr style=\"text-align: right;\">\n",
       "      <th></th>\n",
       "      <th>class</th>\n",
       "      <th>nIC50</th>\n",
       "      <th>logP</th>\n",
       "      <th>molecular_wt</th>\n",
       "      <th>havy_atom_count</th>\n",
       "      <th>hydrogen_acceptors</th>\n",
       "      <th>hydrogen_donors</th>\n",
       "      <th>rotatable_bonds</th>\n",
       "      <th>amide_bonds</th>\n",
       "      <th>ring_count</th>\n",
       "      <th>tpsa</th>\n",
       "      <th>hba</th>\n",
       "      <th>hbd</th>\n",
       "      <th>qed</th>\n",
       "    </tr>\n",
       "  </thead>\n",
       "  <tbody>\n",
       "    <tr>\n",
       "      <th>0</th>\n",
       "      <td>active</td>\n",
       "      <td>6.721246</td>\n",
       "      <td>2.1081</td>\n",
       "      <td>154.596</td>\n",
       "      <td>10</td>\n",
       "      <td>1</td>\n",
       "      <td>0</td>\n",
       "      <td>2</td>\n",
       "      <td>0</td>\n",
       "      <td>1</td>\n",
       "      <td>17.07</td>\n",
       "      <td>1</td>\n",
       "      <td>0</td>\n",
       "      <td>0.471176</td>\n",
       "    </tr>\n",
       "    <tr>\n",
       "      <th>1</th>\n",
       "      <td>active</td>\n",
       "      <td>6.853872</td>\n",
       "      <td>-1.7562</td>\n",
       "      <td>257.246</td>\n",
       "      <td>18</td>\n",
       "      <td>7</td>\n",
       "      <td>7</td>\n",
       "      <td>5</td>\n",
       "      <td>1</td>\n",
       "      <td>1</td>\n",
       "      <td>148.07</td>\n",
       "      <td>7</td>\n",
       "      <td>7</td>\n",
       "      <td>0.244008</td>\n",
       "    </tr>\n",
       "    <tr>\n",
       "      <th>2</th>\n",
       "      <td>inactive</td>\n",
       "      <td>5.759451</td>\n",
       "      <td>2.5850</td>\n",
       "      <td>167.258</td>\n",
       "      <td>10</td>\n",
       "      <td>3</td>\n",
       "      <td>1</td>\n",
       "      <td>0</td>\n",
       "      <td>0</td>\n",
       "      <td>2</td>\n",
       "      <td>12.89</td>\n",
       "      <td>3</td>\n",
       "      <td>1</td>\n",
       "      <td>0.594972</td>\n",
       "    </tr>\n",
       "    <tr>\n",
       "      <th>3</th>\n",
       "      <td>active</td>\n",
       "      <td>6.619789</td>\n",
       "      <td>2.6724</td>\n",
       "      <td>308.340</td>\n",
       "      <td>20</td>\n",
       "      <td>6</td>\n",
       "      <td>2</td>\n",
       "      <td>5</td>\n",
       "      <td>0</td>\n",
       "      <td>2</td>\n",
       "      <td>100.38</td>\n",
       "      <td>6</td>\n",
       "      <td>2</td>\n",
       "      <td>0.813057</td>\n",
       "    </tr>\n",
       "    <tr>\n",
       "      <th>4</th>\n",
       "      <td>active</td>\n",
       "      <td>6.008774</td>\n",
       "      <td>3.1313</td>\n",
       "      <td>267.357</td>\n",
       "      <td>19</td>\n",
       "      <td>4</td>\n",
       "      <td>0</td>\n",
       "      <td>2</td>\n",
       "      <td>0</td>\n",
       "      <td>3</td>\n",
       "      <td>30.18</td>\n",
       "      <td>4</td>\n",
       "      <td>0</td>\n",
       "      <td>0.701310</td>\n",
       "    </tr>\n",
       "  </tbody>\n",
       "</table>\n",
       "</div>"
      ],
      "text/plain": [
       "      class     nIC50    logP  molecular_wt  havy_atom_count  \\\n",
       "0    active  6.721246  2.1081       154.596               10   \n",
       "1    active  6.853872 -1.7562       257.246               18   \n",
       "2  inactive  5.759451  2.5850       167.258               10   \n",
       "3    active  6.619789  2.6724       308.340               20   \n",
       "4    active  6.008774  3.1313       267.357               19   \n",
       "\n",
       "   hydrogen_acceptors  hydrogen_donors  rotatable_bonds  amide_bonds  \\\n",
       "0                   1                0                2            0   \n",
       "1                   7                7                5            1   \n",
       "2                   3                1                0            0   \n",
       "3                   6                2                5            0   \n",
       "4                   4                0                2            0   \n",
       "\n",
       "   ring_count    tpsa  hba  hbd       qed  \n",
       "0           1   17.07    1    0  0.471176  \n",
       "1           1  148.07    7    7  0.244008  \n",
       "2           2   12.89    3    1  0.594972  \n",
       "3           2  100.38    6    2  0.813057  \n",
       "4           3   30.18    4    0  0.701310  "
      ]
     },
     "execution_count": 43,
     "metadata": {},
     "output_type": "execute_result"
    }
   ],
   "source": [
    "df_final = df_desc[['class', 'nIC50', 'logP', 'molecular_wt', 'havy_atom_count', \n",
    "                    'hydrogen_acceptors', 'hydrogen_donors', 'rotatable_bonds', \n",
    "                    'amide_bonds', 'ring_count', 'tpsa', 'hba', 'hbd', 'qed']]\n",
    "df_final.head()"
   ]
  },
  {
   "cell_type": "code",
   "execution_count": 48,
   "id": "5865a231",
   "metadata": {},
   "outputs": [
    {
     "data": {
      "text/plain": [
       "Index(['class', 'nIC50', 'logP', 'molecular_wt', 'havy_atom_count',\n",
       "       'hydrogen_acceptors', 'hydrogen_donors', 'rotatable_bonds',\n",
       "       'amide_bonds', 'ring_count', 'tpsa', 'hba', 'hbd', 'qed'],\n",
       "      dtype='object')"
      ]
     },
     "execution_count": 48,
     "metadata": {},
     "output_type": "execute_result"
    }
   ],
   "source": [
    "df_final.columns"
   ]
  },
  {
   "cell_type": "markdown",
   "id": "6d334036",
   "metadata": {},
   "source": [
    "# Perform Analysis"
   ]
  },
  {
   "cell_type": "markdown",
   "id": "36d47897",
   "metadata": {},
   "source": [
    "### Demo scatter plot"
   ]
  },
  {
   "cell_type": "code",
   "execution_count": 47,
   "id": "8c68f170",
   "metadata": {},
   "outputs": [
    {
     "data": {
      "text/plain": [
       "<AxesSubplot:xlabel='molecular_wt', ylabel='nIC50'>"
      ]
     },
     "execution_count": 47,
     "metadata": {},
     "output_type": "execute_result"
    },
    {
     "data": {
      "image/png": "[encoded data removed]",
      "text/plain": [
       "<Figure size 432x288 with 1 Axes>"
      ]
     },
     "metadata": {
      "needs_background": "light"
     },
     "output_type": "display_data"
    }
   ],
   "source": [
    "sns.scatterplot(data=df_final, x=\"molecular_wt\", y=\"nIC50\", hue=\"class\")"
   ]
  },
  {
   "cell_type": "code",
   "execution_count": 50,
   "id": "fb225e79",
   "metadata": {},
   "outputs": [
    {
     "data": {
      "text/plain": [
       "<AxesSubplot:xlabel='class', ylabel='nIC50'>"
      ]
     },
     "execution_count": 50,
     "metadata": {},
     "output_type": "execute_result"
    },
    {
     "data": {
      "image/png": "[encoded data removed]",
      "text/plain": [
       "<Figure size 432x288 with 1 Axes>"
      ]
     },
     "metadata": {
      "needs_background": "light"
     },
     "output_type": "display_data"
    }
   ],
   "source": [
    "sns.boxplot(x=\"class\", y=\"nIC50\", data=df_final)"
   ]
  },
  {
   "cell_type": "markdown",
   "id": "1638191a",
   "metadata": {},
   "source": [
    "### Another Approach of For Other Plot"
   ]
  },
  {
   "cell_type": "code",
   "execution_count": 49,
   "id": "a410dcf7",
   "metadata": {},
   "outputs": [
    {
     "data": {
      "text/html": [
       "<div>\n",
       "<style scoped>\n",
       "    .dataframe tbody tr th:only-of-type {\n",
       "        vertical-align: middle;\n",
       "    }\n",
       "\n",
       "    .dataframe tbody tr th {\n",
       "        vertical-align: top;\n",
       "    }\n",
       "\n",
       "    .dataframe thead th {\n",
       "        text-align: right;\n",
       "    }\n",
       "</style>\n",
       "<table border=\"1\" class=\"dataframe\">\n",
       "  <thead>\n",
       "    <tr style=\"text-align: right;\">\n",
       "      <th></th>\n",
       "      <th>class</th>\n",
       "      <th>variable</th>\n",
       "      <th>value</th>\n",
       "    </tr>\n",
       "  </thead>\n",
       "  <tbody>\n",
       "    <tr>\n",
       "      <th>0</th>\n",
       "      <td>active</td>\n",
       "      <td>nIC50</td>\n",
       "      <td>6.721246</td>\n",
       "    </tr>\n",
       "    <tr>\n",
       "      <th>1</th>\n",
       "      <td>active</td>\n",
       "      <td>nIC50</td>\n",
       "      <td>6.853872</td>\n",
       "    </tr>\n",
       "    <tr>\n",
       "      <th>2</th>\n",
       "      <td>inactive</td>\n",
       "      <td>nIC50</td>\n",
       "      <td>5.759451</td>\n",
       "    </tr>\n",
       "    <tr>\n",
       "      <th>3</th>\n",
       "      <td>active</td>\n",
       "      <td>nIC50</td>\n",
       "      <td>6.619789</td>\n",
       "    </tr>\n",
       "    <tr>\n",
       "      <th>4</th>\n",
       "      <td>active</td>\n",
       "      <td>nIC50</td>\n",
       "      <td>6.008774</td>\n",
       "    </tr>\n",
       "    <tr>\n",
       "      <th>...</th>\n",
       "      <td>...</td>\n",
       "      <td>...</td>\n",
       "      <td>...</td>\n",
       "    </tr>\n",
       "    <tr>\n",
       "      <th>1282</th>\n",
       "      <td>inactive</td>\n",
       "      <td>qed</td>\n",
       "      <td>0.496772</td>\n",
       "    </tr>\n",
       "    <tr>\n",
       "      <th>1283</th>\n",
       "      <td>active</td>\n",
       "      <td>qed</td>\n",
       "      <td>0.591055</td>\n",
       "    </tr>\n",
       "    <tr>\n",
       "      <th>1284</th>\n",
       "      <td>inactive</td>\n",
       "      <td>qed</td>\n",
       "      <td>0.500071</td>\n",
       "    </tr>\n",
       "    <tr>\n",
       "      <th>1285</th>\n",
       "      <td>inactive</td>\n",
       "      <td>qed</td>\n",
       "      <td>0.335577</td>\n",
       "    </tr>\n",
       "    <tr>\n",
       "      <th>1286</th>\n",
       "      <td>active</td>\n",
       "      <td>qed</td>\n",
       "      <td>0.573135</td>\n",
       "    </tr>\n",
       "  </tbody>\n",
       "</table>\n",
       "<p>1287 rows × 3 columns</p>\n",
       "</div>"
      ],
      "text/plain": [
       "         class variable     value\n",
       "0       active    nIC50  6.721246\n",
       "1       active    nIC50  6.853872\n",
       "2     inactive    nIC50  5.759451\n",
       "3       active    nIC50  6.619789\n",
       "4       active    nIC50  6.008774\n",
       "...        ...      ...       ...\n",
       "1282  inactive      qed  0.496772\n",
       "1283    active      qed  0.591055\n",
       "1284  inactive      qed  0.500071\n",
       "1285  inactive      qed  0.335577\n",
       "1286    active      qed  0.573135\n",
       "\n",
       "[1287 rows x 3 columns]"
      ]
     },
     "execution_count": 49,
     "metadata": {},
     "output_type": "execute_result"
    }
   ],
   "source": [
    "df_final_mlt = pd.melt(df_final, id_vars=['class'], value_vars=['nIC50', 'logP', 'molecular_wt', 'havy_atom_count',\n",
    "       'hydrogen_acceptors', 'hydrogen_donors', 'rotatable_bonds',\n",
    "       'amide_bonds', 'ring_count', 'tpsa', 'hba', 'hbd', 'qed'])"
   ]
  },
  {
   "cell_type": "code",
   "execution_count": null,
   "id": "9f5bcbdf",
   "metadata": {},
   "outputs": [],
   "source": []
  },
  {
   "cell_type": "markdown",
   "id": "8dc8678c",
   "metadata": {},
   "source": [
    "# Write CSV"
   ]
  },
  {
   "cell_type": "code",
   "execution_count": 44,
   "id": "3eb85122",
   "metadata": {},
   "outputs": [],
   "source": [
    "# Write df_final to csv\n",
    "df_final.to_csv('./output/ml_sars_cov2_mpro.csv')"
   ]
  },
  {
   "cell_type": "code",
   "execution_count": null,
   "id": "e35d451a",
   "metadata": {},
   "outputs": [],
   "source": []
  }
 ],
 "metadata": {
  "kernelspec": {
   "display_name": "Python 3",
   "language": "python",
   "name": "python3"
  },
  "language_info": {
   "codemirror_mode": {
    "name": "ipython",
    "version": 3
   },
   "file_extension": ".py",
   "mimetype": "text/x-python",
   "name": "python",
   "nbconvert_exporter": "python",
   "pygments_lexer": "ipython3",
   "version": "3.9.2"
  }
 },
 "nbformat": 4,
 "nbformat_minor": 5
}
