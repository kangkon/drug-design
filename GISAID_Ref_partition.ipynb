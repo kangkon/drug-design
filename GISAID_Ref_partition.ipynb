{
 "cells": [
  {
   "cell_type": "code",
   "execution_count": 4,
   "id": "99eed5c8",
   "metadata": {},
   "outputs": [],
   "source": [
    "import pandas as pd\n",
    "gisaid_ref = pd.read_csv('./data/gisaid_covid_ref_seq_Asia-India.csv')"
   ]
  },
  {
   "cell_type": "code",
   "execution_count": 5,
   "id": "1873be3e",
   "metadata": {},
   "outputs": [
    {
     "data": {
      "text/html": [
       "<div>\n",
       "<style scoped>\n",
       "    .dataframe tbody tr th:only-of-type {\n",
       "        vertical-align: middle;\n",
       "    }\n",
       "\n",
       "    .dataframe tbody tr th {\n",
       "        vertical-align: top;\n",
       "    }\n",
       "\n",
       "    .dataframe thead th {\n",
       "        text-align: right;\n",
       "    }\n",
       "</style>\n",
       "<table border=\"1\" class=\"dataframe\">\n",
       "  <thead>\n",
       "    <tr style=\"text-align: right;\">\n",
       "      <th></th>\n",
       "      <th>EPI_ISL_1789817</th>\n",
       "      <th>EPI_ISL_1789814</th>\n",
       "      <th>EPI_ISL_2382928</th>\n",
       "      <th>EPI_ISL_1789815</th>\n",
       "      <th>EPI_ISL_2382929</th>\n",
       "      <th>EPI_ISL_2382926</th>\n",
       "      <th>EPI_ISL_1789813</th>\n",
       "      <th>EPI_ISL_2382927</th>\n",
       "      <th>EPI_ISL_2382924</th>\n",
       "      <th>EPI_ISL_2382925</th>\n",
       "      <th>...</th>\n",
       "      <th>EPI_ISL_1034177</th>\n",
       "      <th>EPI_ISL_1419179</th>\n",
       "      <th>EPI_ISL_1419174</th>\n",
       "      <th>EPI_ISL_1419173</th>\n",
       "      <th>EPI_ISL_1419176</th>\n",
       "      <th>EPI_ISL_1419175</th>\n",
       "      <th>EPI_ISL_1419170</th>\n",
       "      <th>EPI_ISL_2156949</th>\n",
       "      <th>EPI_ISL_1419172</th>\n",
       "      <th>EPI_ISL_1419171</th>\n",
       "    </tr>\n",
       "  </thead>\n",
       "  <tbody>\n",
       "  </tbody>\n",
       "</table>\n",
       "<p>0 rows × 18562 columns</p>\n",
       "</div>"
      ],
      "text/plain": [
       "Empty DataFrame\n",
       "Columns: [EPI_ISL_1789817,  EPI_ISL_1789814,  EPI_ISL_2382928,  EPI_ISL_1789815,  EPI_ISL_2382929,  EPI_ISL_2382926,  EPI_ISL_1789813,  EPI_ISL_2382927,  EPI_ISL_2382924,  EPI_ISL_2382925,  EPI_ISL_2382922,  EPI_ISL_2382923,  EPI_ISL_2382931,  EPI_ISL_2382932,  EPI_ISL_2382930,  EPI_ISL_2342003,  EPI_ISL_2342004,  EPI_ISL_2342001,  EPI_ISL_2342002,  EPI_ISL_2342000,  EPI_ISL_2382939,  EPI_ISL_2342009,  EPI_ISL_2382937,  EPI_ISL_2382938,  EPI_ISL_2342007,  EPI_ISL_2382935,  EPI_ISL_2342008,  EPI_ISL_2382936,  EPI_ISL_2342005,  EPI_ISL_2382933,  EPI_ISL_2342006,  EPI_ISL_2382934,  EPI_ISL_2382942,  EPI_ISL_2382943,  EPI_ISL_2382940,  EPI_ISL_2382941,  EPI_ISL_2342014,  EPI_ISL_2342015,  EPI_ISL_2342012,  EPI_ISL_2342013,  EPI_ISL_2342010,  EPI_ISL_2342011,  EPI_ISL_508495,  EPI_ISL_508494,  EPI_ISL_508497,  EPI_ISL_508496,  EPI_ISL_508499,  EPI_ISL_2342018,  EPI_ISL_508498,  EPI_ISL_2342019,  EPI_ISL_2342016,  EPI_ISL_2342017,  EPI_ISL_508491,  EPI_ISL_508490,  EPI_ISL_508493,  EPI_ISL_508492,  EPI_ISL_2342025,  EPI_ISL_2342026,  EPI_ISL_2342023,  EPI_ISL_2342024,  EPI_ISL_2342021,  EPI_ISL_2342022,  EPI_ISL_2382919,  EPI_ISL_2342020,  EPI_ISL_2382917,  EPI_ISL_2382918,  EPI_ISL_2382915,  EPI_ISL_2382916,  EPI_ISL_2342029,  EPI_ISL_2342027,  EPI_ISL_2342028,  EPI_ISL_2382920,  EPI_ISL_2382921,  EPI_ISL_508473,  EPI_ISL_508472,  EPI_ISL_508475,  EPI_ISL_508474,  EPI_ISL_508477,  EPI_ISL_508476,  EPI_ISL_508479,  EPI_ISL_508478,  EPI_ISL_508471,  EPI_ISL_508470,  EPI_ISL_508484,  EPI_ISL_508483,  EPI_ISL_508486,  EPI_ISL_508485,  EPI_ISL_508488,  EPI_ISL_508487,  EPI_ISL_508489,  EPI_ISL_508480,  EPI_ISL_508482,  EPI_ISL_508481,  EPI_ISL_508459,  EPI_ISL_2151311,  EPI_ISL_508458,  EPI_ISL_2151312,  EPI_ISL_2151310,  EPI_ISL_2151315,  EPI_ISL_2151316, ...]\n",
       "Index: []\n",
       "\n",
       "[0 rows x 18562 columns]"
      ]
     },
     "execution_count": 5,
     "metadata": {},
     "output_type": "execute_result"
    }
   ],
   "source": [
    "gisaid_ref.head()"
   ]
  },
  {
   "cell_type": "code",
   "execution_count": 8,
   "id": "dc677c28",
   "metadata": {},
   "outputs": [
    {
     "data": {
      "text/html": [
       "<div>\n",
       "<style scoped>\n",
       "    .dataframe tbody tr th:only-of-type {\n",
       "        vertical-align: middle;\n",
       "    }\n",
       "\n",
       "    .dataframe tbody tr th {\n",
       "        vertical-align: top;\n",
       "    }\n",
       "\n",
       "    .dataframe thead th {\n",
       "        text-align: right;\n",
       "    }\n",
       "</style>\n",
       "<table border=\"1\" class=\"dataframe\">\n",
       "  <thead>\n",
       "    <tr style=\"text-align: right;\">\n",
       "      <th></th>\n",
       "    </tr>\n",
       "  </thead>\n",
       "  <tbody>\n",
       "    <tr>\n",
       "      <th>EPI_ISL_1789817</th>\n",
       "    </tr>\n",
       "    <tr>\n",
       "      <th>EPI_ISL_1789814</th>\n",
       "    </tr>\n",
       "    <tr>\n",
       "      <th>EPI_ISL_2382928</th>\n",
       "    </tr>\n",
       "    <tr>\n",
       "      <th>EPI_ISL_1789815</th>\n",
       "    </tr>\n",
       "    <tr>\n",
       "      <th>EPI_ISL_2382929</th>\n",
       "    </tr>\n",
       "  </tbody>\n",
       "</table>\n",
       "</div>"
      ],
      "text/plain": [
       "Empty DataFrame\n",
       "Columns: []\n",
       "Index: [EPI_ISL_1789817,  EPI_ISL_1789814,  EPI_ISL_2382928,  EPI_ISL_1789815,  EPI_ISL_2382929]"
      ]
     },
     "execution_count": 8,
     "metadata": {},
     "output_type": "execute_result"
    }
   ],
   "source": [
    "gisaid_ref_t = gisaid_ref.transpose()\n",
    "gisaid_ref_t.head()"
   ]
  },
  {
   "cell_type": "code",
   "execution_count": 19,
   "id": "c3cfa818",
   "metadata": {},
   "outputs": [],
   "source": [
    "gisaid_ref_t.iloc[15000:18562].transpose().to_csv('./output/gisaid_covref_15000-18562.csv')"
   ]
  }
 ],
 "metadata": {
  "kernelspec": {
   "display_name": "Python 3",
   "language": "python",
   "name": "python3"
  },
  "language_info": {
   "codemirror_mode": {
    "name": "ipython",
    "version": 3
   },
   "file_extension": ".py",
   "mimetype": "text/x-python",
   "name": "python",
   "nbconvert_exporter": "python",
   "pygments_lexer": "ipython3",
   "version": "3.9.2"
  }
 },
 "nbformat": 4,
 "nbformat_minor": 5
}
